{
 "cells": [
  {
   "cell_type": "markdown",
   "metadata": {
    "slideshow": {
     "slide_type": "slide"
    }
   },
   "source": [
    "## Задание 1"
   ]
  },
  {
   "cell_type": "code",
   "execution_count": null,
   "metadata": {
    "slideshow": {
     "slide_type": "skip"
    }
   },
   "outputs": [
    {
     "name": "stdout",
     "output_type": "stream",
     "text": [
      "[NbConvertApp] Converting notebook pandas_1_DZ.ipynb to slides\n",
      "[NbConvertApp] Writing 291377 bytes to pandas_1_DZ.slides.html\n",
      "[NbConvertApp] Redirecting reveal.js requests to https://cdnjs.cloudflare.com/ajax/libs/reveal.js/3.5.0\n",
      "Serving your slides at http://127.0.0.1:8000/pandas_1_DZ.slides.html\n",
      "Use Control-C to stop this server\n",
      "WARNING:tornado.access:404 GET /custom.css (127.0.0.1) 5.67ms\n"
     ]
    }
   ],
   "source": [
    "!jupyter nbconvert pandas_1_DZ.ipynb --to slides --post serve"
   ]
  },
  {
   "cell_type": "code",
   "execution_count": 14,
   "metadata": {
    "scrolled": true,
    "slideshow": {
     "slide_type": "slide"
    }
   },
   "outputs": [
    {
     "data": {
      "text/html": [
       "<div>\n",
       "<style scoped>\n",
       "    .dataframe tbody tr th:only-of-type {\n",
       "        vertical-align: middle;\n",
       "    }\n",
       "\n",
       "    .dataframe tbody tr th {\n",
       "        vertical-align: top;\n",
       "    }\n",
       "\n",
       "    .dataframe thead th {\n",
       "        text-align: right;\n",
       "    }\n",
       "</style>\n",
       "<table border=\"1\" class=\"dataframe\">\n",
       "  <thead>\n",
       "    <tr style=\"text-align: right;\">\n",
       "      <th></th>\n",
       "      <th>userId</th>\n",
       "      <th>movieId</th>\n",
       "      <th>rating</th>\n",
       "      <th>timestamp</th>\n",
       "      <th>genres</th>\n",
       "    </tr>\n",
       "    <tr>\n",
       "      <th>title</th>\n",
       "      <th></th>\n",
       "      <th></th>\n",
       "      <th></th>\n",
       "      <th></th>\n",
       "      <th></th>\n",
       "    </tr>\n",
       "  </thead>\n",
       "  <tbody>\n",
       "    <tr>\n",
       "      <th>Shawshank Redemption, The (1994)</th>\n",
       "      <td>153</td>\n",
       "      <td>153</td>\n",
       "      <td>153</td>\n",
       "      <td>153</td>\n",
       "      <td>153</td>\n",
       "    </tr>\n",
       "  </tbody>\n",
       "</table>\n",
       "</div>"
      ],
      "text/plain": [
       "                                  userId  movieId  rating  timestamp  genres\n",
       "title                                                                       \n",
       "Shawshank Redemption, The (1994)     153      153     153        153     153"
      ]
     },
     "execution_count": 14,
     "metadata": {},
     "output_type": "execute_result"
    }
   ],
   "source": [
    "import pandas as pd\n",
    "\n",
    "data = pd.read_csv('ratings.csv')\n",
    "data = data[ data.rating == 5.0 ]\n",
    "data = data.merge(pd.read_csv('movies.csv'))\n",
    "\n",
    "data.groupby('title').count().sort_values('rating', ascending=False).head(1)\n"
   ]
  },
  {
   "cell_type": "markdown",
   "metadata": {
    "slideshow": {
     "slide_type": "slide"
    }
   },
   "source": [
    "## Задание 2"
   ]
  },
  {
   "cell_type": "code",
   "execution_count": 18,
   "metadata": {
    "slideshow": {
     "slide_type": "slide"
    }
   },
   "outputs": [
    {
     "data": {
      "text/html": [
       "<div>\n",
       "<style scoped>\n",
       "    .dataframe tbody tr th:only-of-type {\n",
       "        vertical-align: middle;\n",
       "    }\n",
       "\n",
       "    .dataframe tbody tr th {\n",
       "        vertical-align: top;\n",
       "    }\n",
       "\n",
       "    .dataframe thead th {\n",
       "        text-align: right;\n",
       "    }\n",
       "</style>\n",
       "<table border=\"1\" class=\"dataframe\">\n",
       "  <thead>\n",
       "    <tr style=\"text-align: right;\">\n",
       "      <th></th>\n",
       "      <th></th>\n",
       "      <th>year</th>\n",
       "      <th>quantity</th>\n",
       "    </tr>\n",
       "    <tr>\n",
       "      <th>country</th>\n",
       "      <th>category</th>\n",
       "      <th></th>\n",
       "      <th></th>\n",
       "    </tr>\n",
       "  </thead>\n",
       "  <tbody>\n",
       "    <tr>\n",
       "      <th rowspan=\"2\" valign=\"top\">Estonia</th>\n",
       "      <th>4</th>\n",
       "      <td>16060</td>\n",
       "      <td>12.0</td>\n",
       "    </tr>\n",
       "    <tr>\n",
       "      <th>21</th>\n",
       "      <td>88330</td>\n",
       "      <td>42172.0</td>\n",
       "    </tr>\n",
       "    <tr>\n",
       "      <th>Latvia</th>\n",
       "      <th>21</th>\n",
       "      <td>94353</td>\n",
       "      <td>35860.0</td>\n",
       "    </tr>\n",
       "    <tr>\n",
       "      <th rowspan=\"3\" valign=\"top\">Lithuania</th>\n",
       "      <th>4</th>\n",
       "      <td>24084</td>\n",
       "      <td>12.0</td>\n",
       "    </tr>\n",
       "    <tr>\n",
       "      <th>12</th>\n",
       "      <td>126485</td>\n",
       "      <td>5363.0</td>\n",
       "    </tr>\n",
       "    <tr>\n",
       "      <th>21</th>\n",
       "      <td>128480</td>\n",
       "      <td>81136.0</td>\n",
       "    </tr>\n",
       "  </tbody>\n",
       "</table>\n",
       "</div>"
      ],
      "text/plain": [
       "                      year  quantity\n",
       "country   category                  \n",
       "Estonia   4          16060      12.0\n",
       "          21         88330   42172.0\n",
       "Latvia    21         94353   35860.0\n",
       "Lithuania 4          24084      12.0\n",
       "          12        126485    5363.0\n",
       "          21        128480   81136.0"
      ]
     },
     "execution_count": 18,
     "metadata": {},
     "output_type": "execute_result"
    }
   ],
   "source": [
    "\n",
    "import pandas as pd\n",
    "\n",
    "countries = pd.read_csv('power.csv')\n",
    "countries.head(10)\n",
    "\n",
    "        \n",
    "filtered_countries = countries[countries['country'].isin(['Lithuania', 'Estonia','Latvia'])]\n",
    "filtered_countries = filtered_countries[filtered_countries['category'].isin([4,12,21])]\n",
    "filtered_countries = filtered_countries[((filtered_countries['quantity']>0) & \n",
    "                                        ((filtered_countries['year']>2005 )& (filtered_countries['year']<2010)))]\n",
    "\n",
    "\n",
    "filtered_countries.groupby(['country','category']).sum()\n"
   ]
  },
  {
   "cell_type": "markdown",
   "metadata": {
    "slideshow": {
     "slide_type": "slide"
    }
   },
   "source": [
    "## Задание 3"
   ]
  },
  {
   "cell_type": "code",
   "execution_count": 35,
   "metadata": {
    "slideshow": {
     "slide_type": "slide"
    }
   },
   "outputs": [
    {
     "data": {
      "text/plain": [
       "[    Unnamed: 0              Рубль  Предложение  Спрос  Предыдущее закрытие  \\\n",
       " 0          NaN            GBP/RUB      1010744      -              1010491   \n",
       " 1          NaN            EUR/RUB       909060      -               901200   \n",
       " 2          NaN            USD/RUB       759940      -               756639   \n",
       " 3          NaN            JPY/RUB        07305      -                07257   \n",
       " 4          NaN            CNY/RUB       115541      -               115068   \n",
       " 5          NaN            CHF/RUB       839963      -               834406   \n",
       " 6          NaN               Евро  Предложение  Спрос  Предыдущее закрытие   \n",
       " 7          NaN            EUR/USD        11965      -                11909   \n",
       " 8          NaN            EUR/GBP        08992      -                08918   \n",
       " 9          NaN            EUR/JPY      1244470      -              1241900   \n",
       " 10         NaN            EUR/CHF        10822      -                10800   \n",
       " 11         NaN         Доллар США  Предложение  Спрос  Предыдущее закрытие   \n",
       " 12         NaN            USD/EUR        08358      -                08395   \n",
       " 13         NaN            USD/GBP        07517      -                07488   \n",
       " 14         NaN            USD/JPY      1040355      -              1042550   \n",
       " 15         NaN            USD/CHF        09046      -                09067   \n",
       " 16         NaN      Японская иена  Предложение  Спрос  Предыдущее закрытие   \n",
       " 17         NaN    JPY/EUR (100:1)        08000      -                08100   \n",
       " 18         NaN            JPY/GBP        00072      -                00072   \n",
       " 19         NaN            JPY/USD        00096      -                00096   \n",
       " 20         NaN    JPY/CHF (100:1)        08700      -                08700   \n",
       " 21         NaN    Фунт стерлингов  Предложение  Спрос  Предыдущее закрытие   \n",
       " 22         NaN            GBP/USD        13303      -                13356   \n",
       " 23         NaN            GBP/JPY      1383860      -              1392352   \n",
       " 24         NaN            GBP/EUR        11122      -                11214   \n",
       " 25         NaN            GBP/CHF        12035      -                12111   \n",
       " 26         NaN  Швейцарский франк  Предложение  Спрос  Предыдущее закрытие   \n",
       " 27         NaN            GBP/CHF        12035      -                12111   \n",
       " 28         NaN            EUR/CHF        10822      -                10800   \n",
       " 29         NaN    JPY/CHF (100:1)        08700      -                08700   \n",
       " 30         NaN            USD/CHF        09046      -                09067   \n",
       " 31         NaN  Украинская гривна  Предложение  Спрос  Предыдущее закрытие   \n",
       " 32         NaN            EUR/UAH       341407      -               339181   \n",
       " 33         NaN            USD/UAH       285350      -               284751   \n",
       " 34         NaN            CHF/UAH       315443      -               314017   \n",
       " 35         NaN            GBP/UAH       379573      -               380284   \n",
       " \n",
       "           %  Абсолютное значение     Время  \n",
       " 0    0,03 %                00253  22:35:00  \n",
       " 1    0,87 %                07860  22:34:00  \n",
       " 2    0,44 %                03301  22:34:00  \n",
       " 3    0,65 %                00047  22:35:00  \n",
       " 4    0,41 %                00474  22:34:00  \n",
       " 5    0,67 %                05557  22:35:00  \n",
       " 6         %  Абсолютное значение     Время  \n",
       " 7    0,47 %                00056  22:34:00  \n",
       " 8    0,83 %                00074  22:34:00  \n",
       " 9    0,21 %                02570  22:34:00  \n",
       " 10   0,20 %                00022  22:34:00  \n",
       " 11        %  Абсолютное значение     Время  \n",
       " 12  -0,44 %               -00037  22:35:00  \n",
       " 13   0,39 %                00029  22:35:00  \n",
       " 14  -0,21 %               -02195  22:34:00  \n",
       " 15  -0,23 %               -00021  22:34:00  \n",
       " 16        %  Абсолютное значение     Время  \n",
       " 17  -0,23 %                00000  22:34:00  \n",
       " 18   0,61 %                00000  22:35:00  \n",
       " 19   0,21 %                00000  22:35:00  \n",
       " 20  -0,04 %                00000  22:34:00  \n",
       " 21        %  Абсолютное значение     Время  \n",
       " 22  -0,39 %               -00052  22:34:00  \n",
       " 23  -0,61 %               -08492  22:35:00  \n",
       " 24  -0,82 %               -00092  22:34:00  \n",
       " 25  -0,63 %               -00076  22:34:00  \n",
       " 26        %  Абсолютное значение     Время  \n",
       " 27  -0,63 %               -00076  22:34:00  \n",
       " 28   0,20 %                00022  22:34:00  \n",
       " 29  -0,04 %                00000  22:34:00  \n",
       " 30  -0,23 %               -00021  22:34:00  \n",
       " 31        %  Абсолютное значение     Время  \n",
       " 32   0,66 %                02227  22:35:00  \n",
       " 33   0,21 %                00600  22:33:00  \n",
       " 34   0,45 %                01426  22:35:00  \n",
       " 35  -0,19 %               -00712  22:35:00  ]"
      ]
     },
     "execution_count": 35,
     "metadata": {},
     "output_type": "execute_result"
    }
   ],
   "source": [
    "import pandas as pd\n",
    "\n",
    "df = pd.read_html('https://www.finanz.ru/valyuty/v-realnom-vremeni', attrs = {'class': 'quote_list'}, encoding='utf-8')\n",
    "df[:1]"
   ]
  }
 ],
 "metadata": {
  "celltoolbar": "Slideshow",
  "kernelspec": {
   "display_name": "Python 3",
   "language": "python",
   "name": "python3"
  },
  "language_info": {
   "codemirror_mode": {
    "name": "ipython",
    "version": 3
   },
   "file_extension": ".py",
   "mimetype": "text/x-python",
   "name": "python",
   "nbconvert_exporter": "python",
   "pygments_lexer": "ipython3",
   "version": "3.8.3"
  }
 },
 "nbformat": 4,
 "nbformat_minor": 4
}
