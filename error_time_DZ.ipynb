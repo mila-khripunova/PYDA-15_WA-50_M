{
 "cells": [
  {
   "cell_type": "markdown",
   "metadata": {},
   "source": [
    "## Задание 1"
   ]
  },
  {
   "cell_type": "code",
   "execution_count": 13,
   "metadata": {},
   "outputs": [
    {
     "name": "stdout",
     "output_type": "stream",
     "text": [
      "2002-10-02 00:00:00 2013-11-10 00:00:00 1977-08-18 00:00:00\n"
     ]
    }
   ],
   "source": [
    "str1 = 'Wednesday, October 2, 2002'\n",
    "str2 = 'Friday, 11.10.13'\n",
    "str3 = '18 August 1977'\n",
    "\n",
    "from datetime import datetime\n",
    "dt1 = datetime.strptime(str1,'%A, %B %d, %Y')\n",
    "dt2 = datetime.strptime(str2,'%A, %m.%d.%y')\n",
    "dt3 = datetime.strptime(str3,'%d %B %Y')\n",
    "\n",
    "print(dt1,dt2,dt3)\n"
   ]
  },
  {
   "cell_type": "markdown",
   "metadata": {},
   "source": [
    "## Задание 2"
   ]
  },
  {
   "cell_type": "code",
   "execution_count": 15,
   "metadata": {},
   "outputs": [
    {
     "name": "stdout",
     "output_type": "stream",
     "text": [
      "некорректная дата: 2018-19-02\n"
     ]
    }
   ],
   "source": [
    "stream = ['2018-04-02', '2018-02-29', '2018-19-02']\n",
    "\n",
    "for item in stream:\n",
    "    try:\n",
    "        datetime.strptime(item,'%Y-%m-%y')\n",
    "    except:\n",
    "        print('некорректная дата: {}'.format(item))\n"
   ]
  },
  {
   "cell_type": "markdown",
   "metadata": {},
   "source": [
    "##  Задание 3"
   ]
  },
  {
   "cell_type": "code",
   "execution_count": 58,
   "metadata": {},
   "outputs": [
    {
     "name": "stdout",
     "output_type": "stream",
     "text": [
      "['2018-01-01', '2018-01-02', '2018-01-03', '2018-01-04', '2018-01-05', '2018-01-06', '2018-01-07']\n"
     ]
    }
   ],
   "source": [
    "start = '2018-01-01'\n",
    "end = '2018-01-07'\n",
    "from datetime import timedelta\n",
    "\n",
    "def date_range(start_date,end_date):\n",
    "    ddd = []\n",
    "    try:\n",
    "        start_date_dt = datetime.strptime(start_date, '%Y-%m-%d')\n",
    "        end_date_dt = datetime.strptime(end_date, '%Y-%m-%d')\n",
    "        current_dt = start_date_dt\n",
    "        while current_dt <= end_date_dt:\n",
    "            ddd.append(current_dt.strftime('%Y-%m-%d'))\n",
    "            current_dt += timedelta(days=1)\n",
    "    except:\n",
    "        ddd = []\n",
    "    return ddd\n",
    "\n",
    "print(date_range(start,end))\n"
   ]
  },
  {
   "cell_type": "code",
   "execution_count": null,
   "metadata": {},
   "outputs": [],
   "source": []
  }
 ],
 "metadata": {
  "kernelspec": {
   "display_name": "Python 3",
   "language": "python",
   "name": "python3"
  },
  "language_info": {
   "codemirror_mode": {
    "name": "ipython",
    "version": 3
   },
   "file_extension": ".py",
   "mimetype": "text/x-python",
   "name": "python",
   "nbconvert_exporter": "python",
   "pygments_lexer": "ipython3",
   "version": "3.8.3"
  }
 },
 "nbformat": 4,
 "nbformat_minor": 4
}
