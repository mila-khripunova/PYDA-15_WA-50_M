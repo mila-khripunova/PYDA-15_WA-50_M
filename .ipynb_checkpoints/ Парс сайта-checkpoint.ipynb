{
 "cells": [
  {
   "cell_type": "code",
   "execution_count": 73,
   "metadata": {},
   "outputs": [
    {
     "name": "stdout",
     "output_type": "stream",
     "text": [
      "['//opt-1048086.ssl.1c-bitrix-cdn.ru/upload/resize_cache/iblock/292/800_800_0/PP71646-14.jpg?160743035094173']\n"
     ]
    }
   ],
   "source": [
    "import requests \n",
    "from bs4 import BeautifulSoup\n",
    "import re\n",
    "\n",
    "res = requests.get('https://oboi-palitra.ru/oboi/oboi-p_p_pp71646_14/')\n",
    "res.text\n",
    "soup = BeautifulSoup(res.text, 'html.parser')\n",
    "news_blocks = soup.find('div', class_='product-top')\n",
    "ur = news_blocks.get('style')\n",
    "result = re.findall(r'\\'([^)]*)\\'', ur)\n",
    "print(result)\n",
    "\n"
   ]
  },
  {
   "cell_type": "code",
   "execution_count": null,
   "metadata": {},
   "outputs": [],
   "source": []
  }
 ],
 "metadata": {
  "kernelspec": {
   "display_name": "Python 3",
   "language": "python",
   "name": "python3"
  },
  "language_info": {
   "codemirror_mode": {
    "name": "ipython",
    "version": 3
   },
   "file_extension": ".py",
   "mimetype": "text/x-python",
   "name": "python",
   "nbconvert_exporter": "python",
   "pygments_lexer": "ipython3",
   "version": "3.8.3"
  }
 },
 "nbformat": 4,
 "nbformat_minor": 4
}
