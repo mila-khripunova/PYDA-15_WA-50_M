{
 "cells": [
  {
   "cell_type": "markdown",
   "metadata": {},
   "source": [
    "## Задание 1"
   ]
  },
  {
   "cell_type": "code",
   "execution_count": 225,
   "metadata": {},
   "outputs": [],
   "source": [
    "import json\n",
    "import pickle\n",
    "\n",
    "i = 0\n",
    "a = []\n",
    "with open('purchase_log.txt','r') as f:\n",
    "    with open('data.pickle.txt', 'wb') as f_write:\n",
    "        for line in f:           \n",
    "            pur = json.loads(line.strip())\n",
    "            purchase = {pur['user_id']:pur['category']}\n",
    "            pickle.dump(purchase, f_write)\n",
    "        f_write.close()\n",
    "    f.close()\n",
    "   \n",
    "    \n",
    "\n",
    "\n",
    "    "
   ]
  },
  {
   "cell_type": "markdown",
   "metadata": {},
   "source": [
    "## Задание 2"
   ]
  },
  {
   "cell_type": "code",
   "execution_count": 20,
   "metadata": {},
   "outputs": [],
   "source": [
    "# purchase_log.txt \n",
    "# visit_log.csv\n",
    "import json\n",
    "import pickle\n",
    "\n",
    "with open('visit_log.csv','r',encoding='utf-8') as list_:\n",
    "    with open('purchase_log.txt','r') as list_1:\n",
    "        with open('funnel.csv','w') as list_2:\n",
    "            for line in list_:\n",
    "                for line_1 in list_1:\n",
    "                    if json.loads(line_1)['user_id'].strip() == line.strip().split(',')[0]:\n",
    "                        list_2.write(str(line))                   \n",
    "            list_2.close() \n",
    "    list_1.close()        \n",
    "list_.close()    "
   ]
  },
  {
   "cell_type": "code",
   "execution_count": 18,
   "metadata": {},
   "outputs": [
    {
     "name": "stdout",
     "output_type": "stream",
     "text": [
      "user_id,source\n",
      "\n"
     ]
    }
   ],
   "source": [
    "import json\n",
    "import pickle\n",
    "\n",
    "with open('visit_log.csv','r') as list_:\n",
    "    with open('purchase_log.txt','r') as list_1:\n",
    "        with open('funnel.csv','r') as list_2:\n",
    "            for line in list_2:\n",
    "                print(line)\n",
    "            list_2.close() \n",
    "        list_1.close()        \n",
    "    list_.close()      \n",
    "    \n",
    "    "
   ]
  },
  {
   "cell_type": "code",
   "execution_count": null,
   "metadata": {},
   "outputs": [],
   "source": []
  }
 ],
 "metadata": {
  "kernelspec": {
   "display_name": "Python 3",
   "language": "python",
   "name": "python3"
  },
  "language_info": {
   "codemirror_mode": {
    "name": "ipython",
    "version": 3
   },
   "file_extension": ".py",
   "mimetype": "text/x-python",
   "name": "python",
   "nbconvert_exporter": "python",
   "pygments_lexer": "ipython3",
   "version": "3.8.3"
  }
 },
 "nbformat": 4,
 "nbformat_minor": 4
}
