{
 "cells": [
  {
   "cell_type": "markdown",
   "metadata": {},
   "source": [
    "Домашнее задание к лекции \"Основы Python\"\n"
   ]
  },
  {
   "cell_type": "markdown",
   "metadata": {},
   "source": [
    "Задание 1"
   ]
  },
  {
   "cell_type": "code",
   "execution_count": 11,
   "metadata": {},
   "outputs": [
    {
     "name": "stdout",
     "output_type": "stream",
     "text": [
      "Фраза 1 длиннее фразы 2\n"
     ]
    }
   ],
   "source": [
    "phrase_1 = 'Насколько проще было бы писать программы, если бы не заказчики'\n",
    "phrase_2 = '640Кб должно хватить для любых задач. Билл Гейтс (по легенде)'\n",
    "if len(phrase_1)>len(phrase_2):\n",
    "    print('Фраза 1 длиннее фразы 2')\n",
    "elif len(phrase_1)<len(phrase_2):\n",
    "    print ('Фраза 2 длиннее фразы 1')\n",
    "else: print ('Фразы равной длины')"
   ]
  },
  {
   "cell_type": "code",
   "execution_count": 12,
   "metadata": {},
   "outputs": [
    {
     "name": "stdout",
     "output_type": "stream",
     "text": [
      "Фраза 2 длиннее фразы 1\n"
     ]
    }
   ],
   "source": [
    "phrase_1 = '640Кб должно хватить для любых задач. Билл Гейтс (по легенде)'\n",
    "phrase_2 = 'Насколько проще было бы писать программы, если бы не заказчики'\n",
    "if len(phrase_1)>len(phrase_2):\n",
    "    print('Фраза 1 длиннее фразы 2')\n",
    "elif len(phrase_1)<len(phrase_2):\n",
    "    print ('Фраза 2 длиннее фразы 1')\n",
    "else: print ('Фразы равной длины')"
   ]
  },
  {
   "cell_type": "code",
   "execution_count": 13,
   "metadata": {},
   "outputs": [
    {
     "name": "stdout",
     "output_type": "stream",
     "text": [
      "Фразы равной длины\n"
     ]
    }
   ],
   "source": [
    "phrase_1 = 'Насколько проще было бы писать программы, если бы не заказчики'\n",
    "phrase_2 = 'Насколько проще было бы писать программы, если бы не заказчики'\n",
    "if len(phrase_1)>len(phrase_2):\n",
    "    print('Фраза 1 длиннее фразы 2')\n",
    "elif len(phrase_1)<len(phrase_2):\n",
    "    print ('Фраза 2 длиннее фразы 1')\n",
    "else: print ('Фразы равной длины')"
   ]
  },
  {
   "cell_type": "markdown",
   "metadata": {},
   "source": [
    "Задание 2"
   ]
  },
  {
   "cell_type": "code",
   "execution_count": 21,
   "metadata": {},
   "outputs": [
    {
     "name": "stdout",
     "output_type": "stream",
     "text": [
      "Високосный год\n"
     ]
    }
   ],
   "source": [
    "year = 2020\n",
    "if (year%100!=0 and year%4==0) or (year%100==0 and year%400==0):\n",
    "    print ('Високосный год')\n",
    "else: print('Обычный год')"
   ]
  },
  {
   "cell_type": "markdown",
   "metadata": {},
   "source": [
    "Задание 3"
   ]
  },
  {
   "cell_type": "code",
   "execution_count": 27,
   "metadata": {
    "scrolled": true
   },
   "outputs": [
    {
     "name": "stdout",
     "output_type": "stream",
     "text": [
      "Введите день:1\n",
      "Введите месяц:Март\n",
      "Ваш знак зодиака:Рыбы\n"
     ]
    }
   ],
   "source": [
    "birth_day = int(input('Введите день:'))\n",
    "birth_month = input('Введите месяц:')\n",
    "if (birth_day>=21 and birth_day<=31 and birth_month=='Март') or( birth_month=='Апрель' and birth_day>=1 and birth_day<=19):\n",
    "   print(\"Ваш знак зодиака:Овен\")\n",
    "elif (birth_day>=20 and birth_day<=30 and birth_month=='Апрель') or( birth_month=='Май' and birth_day>=1 and birth_day<=20):\n",
    "   print(\"Ваш знак зодиака:Телец\")\n",
    "elif (birth_day>=21 and birth_day<=31 and birth_month=='Май') or( birth_month=='Июнь' and birth_day>=1 and birth_day<=21):\n",
    "   print(\"Ваш знак зодиака:Близнецы\")\n",
    "elif (birth_day>=22 and birth_day<=30 and birth_month=='Июнь') or( birth_month=='Июль' and birth_day>=1 and birth_day<=22):\n",
    "   print(\"Ваш знак зодиака:Рак\")\n",
    "elif (birth_day>=23 and birth_day<=31 and birth_month=='Июль') or( birth_month=='Август' and birth_day>=1 and birth_day<=22):\n",
    "   print(\"Ваш знак зодиака:Лев\")\n",
    "elif (birth_day>=23 and birth_day<=31 and birth_month=='Август') or( birth_month=='Сентябрь' and birth_day>=1 and birth_day<=22):\n",
    "   print(\"Ваш знак зодиака:Дева\")\n",
    "elif (birth_day>=23 and birth_day<=30 and birth_month=='Сентябрь') or( birth_month=='Октябрь' and birth_day>=1 and birth_day<=23):\n",
    "   print(\"Ваш знак зодиака:Весы\")\n",
    "elif (birth_day>=24 and birth_day<=31 and birth_month=='Октябрь') or( birth_month=='Ноябрь' and birth_day>=1 and birth_day<=22):\n",
    "   print(\"Ваш знак зодиака:Скорпион\")\n",
    "elif (birth_day>=23 and birth_day<=30 and birth_month=='Ноябрь') or( birth_month=='Декабрь' and birth_day>=1 and birth_day<=21):\n",
    "   print(\"Ваш знак зодиака:Стрелец\")\n",
    "elif (birth_day>=22 and birth_day<=31 and birth_month=='Декабрь') or( birth_month=='Январь' and birth_day>=1 and birth_day<=20):\n",
    "   print(\"Ваш знак зодиака:Козерог\")\n",
    "elif (birth_day>=21 and birth_day<=31 and birth_month=='Февраль') or (birth_month=='Февраль' and birth_day>=1 and birth_day<=18):\n",
    "   print(\"Ваш знак зодиака:Водолей\")\n",
    "elif (birth_day>=19 and birth_day<=29 and birth_month=='Февраль') or( birth_month=='Март' and birth_day>=1 and birth_day<=20):\n",
    "   print(\"Ваш знак зодиака:Рыбы\")\n",
    "else: print('Проверьте правильность ввода')"
   ]
  },
  {
   "cell_type": "markdown",
   "metadata": {},
   "source": [
    "Задание 4"
   ]
  },
  {
   "cell_type": "code",
   "execution_count": 32,
   "metadata": {},
   "outputs": [
    {
     "name": "stdout",
     "output_type": "stream",
     "text": [
      "Упаковка для лыж\n"
     ]
    }
   ],
   "source": [
    "width = 10\n",
    "length = 205\n",
    "height = 5\n",
    "if (length>200):\n",
    "    print ('Упаковка для лыж')\n",
    "elif (width<15 and length<15 and height<15):\n",
    "    print ('Коробка №1')\n",
    "elif (15<width<50 or 15<length<50 or 15<height<50):\n",
    "    print('Коробка №2')\n",
    "else: print('Стандартная коробка №3')"
   ]
  },
  {
   "cell_type": "code",
   "execution_count": null,
   "metadata": {},
   "outputs": [],
   "source": []
  }
 ],
 "metadata": {
  "kernelspec": {
   "display_name": "Python 3",
   "language": "python",
   "name": "python3"
  },
  "language_info": {
   "codemirror_mode": {
    "name": "ipython",
    "version": 3
   },
   "file_extension": ".py",
   "mimetype": "text/x-python",
   "name": "python",
   "nbconvert_exporter": "python",
   "pygments_lexer": "ipython3",
   "version": "3.8.3"
  }
 },
 "nbformat": 4,
 "nbformat_minor": 4
}
