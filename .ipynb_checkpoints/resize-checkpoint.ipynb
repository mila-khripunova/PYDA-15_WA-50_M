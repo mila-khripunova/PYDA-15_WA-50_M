{
 "cells": [
  {
   "cell_type": "code",
   "execution_count": 5,
   "metadata": {},
   "outputs": [],
   "source": [
    "from PIL import Image\n",
    "import os\n",
    " \n",
    "def resize_image(input_image_path,output_image_path,size):\n",
    "    original_image = Image.open(input_image_path)\n",
    "    width, height =  original_image.size\n",
    "    if width<height:\n",
    "        size=(150, 180)\n",
    "    resized_image = original_image.resize(size)\n",
    "    resized_image.save(output_image_path)\n",
    "    \n",
    "    \n",
    "for file in os.listdir('/Users/mila1/Downloads/test/'):\n",
    "    if '.DS_Store' not in file:\n",
    "        resize_image(input_image_path='/Users/mila1/Downloads/test/'+file,\n",
    "                     output_image_path='/Users/mila1/Desktop/в мусор/'+file,\n",
    "                     size=(600, 360))"
   ]
  },
  {
   "cell_type": "code",
   "execution_count": null,
   "metadata": {},
   "outputs": [],
   "source": []
  },
  {
   "cell_type": "code",
   "execution_count": null,
   "metadata": {},
   "outputs": [],
   "source": []
  }
 ],
 "metadata": {
  "kernelspec": {
   "display_name": "Python 3",
   "language": "python",
   "name": "python3"
  },
  "language_info": {
   "codemirror_mode": {
    "name": "ipython",
    "version": 3
   },
   "file_extension": ".py",
   "mimetype": "text/x-python",
   "name": "python",
   "nbconvert_exporter": "python",
   "pygments_lexer": "ipython3",
   "version": "3.8.3"
  }
 },
 "nbformat": 4,
 "nbformat_minor": 4
}
