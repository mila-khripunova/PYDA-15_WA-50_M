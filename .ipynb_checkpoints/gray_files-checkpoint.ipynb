{
 "cells": [
  {
   "cell_type": "code",
   "execution_count": 30,
   "metadata": {},
   "outputs": [
    {
     "name": "stdout",
     "output_type": "stream",
     "text": [
      "0734-62\n",
      "\n",
      "0735-62\n",
      "\n",
      "0736-44\n",
      "\n",
      "0736-58\n",
      "\n",
      "0736-66\n",
      "\n",
      "0737-44\n",
      "\n"
     ]
    }
   ],
   "source": [
    "\n",
    "import numpy as np\n",
    "from PIL import Image\n",
    "\n",
    "\n",
    "f = open('image.txt')\n",
    "i = 0\n",
    "for line in f:\n",
    "    img = Image.new(\"RGB\", (1024, 618),(127,127,127))\n",
    "    line.lstrip('?')\n",
    "    print(line)\n",
    "    img.save(line.rstrip('\\n')+'.jpeg','jpeg')\n",
    "\n",
    "    i += 1\n",
    "    if i > 5:\n",
    "        break\n",
    "\n",
    "\n"
   ]
  },
  {
   "cell_type": "code",
   "execution_count": null,
   "metadata": {},
   "outputs": [],
   "source": []
  }
 ],
 "metadata": {
  "kernelspec": {
   "display_name": "Python 3",
   "language": "python",
   "name": "python3"
  },
  "language_info": {
   "codemirror_mode": {
    "name": "ipython",
    "version": 3
   },
   "file_extension": ".py",
   "mimetype": "text/x-python",
   "name": "python",
   "nbconvert_exporter": "python",
   "pygments_lexer": "ipython3",
   "version": "3.8.3"
  }
 },
 "nbformat": 4,
 "nbformat_minor": 4
}
