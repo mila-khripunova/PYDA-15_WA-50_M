{
 "cells": [
  {
   "cell_type": "code",
   "execution_count": 11,
   "metadata": {},
   "outputs": [
    {
     "data": {
      "text/plain": [
       "['.DS_Store',\n",
       " 'PL51007-14.jpg',\n",
       " 'FM71042-14.jpg',\n",
       " 'PL51003-28.jpg',\n",
       " 'PL81003-14.jpg',\n",
       " 'PL44042-01.jpg',\n",
       " 'PL51004-12.jpg',\n",
       " 'HC40406-01.jpg',\n",
       " 'VS71016-12.jpg']"
      ]
     },
     "execution_count": 11,
     "metadata": {},
     "output_type": "execute_result"
    }
   ],
   "source": [
    "\"\"\"Есть в папке картинок но нет в базе\"\"\"\n",
    "\n",
    "import os\n",
    "\n",
    "def chek(file_):\n",
    "    a = True\n",
    "    with open('список из информации об артикулах.txt','r') as p:\n",
    "        for line in p:\n",
    "            if  file_ in line.rstrip('\\n')+'.jpg':\n",
    "                a = False\n",
    "                break\n",
    "    p.close()\n",
    "    return a\n",
    "\n",
    "ss = [file for file in os.listdir('/Users/mila1/Desktop/в мусор') if chek(file)]\n",
    "\n",
    "\n",
    "ss\n"
   ]
  },
  {
   "cell_type": "code",
   "execution_count": 13,
   "metadata": {},
   "outputs": [
    {
     "ename": "IndentationError",
     "evalue": "expected an indented block (<ipython-input-13-c767b3a79668>, line 5)",
     "output_type": "error",
     "traceback": [
      "\u001b[0;36m  File \u001b[0;32m\"<ipython-input-13-c767b3a79668>\"\u001b[0;36m, line \u001b[0;32m5\u001b[0m\n\u001b[0;31m    ss.write(file+'\\n')\u001b[0m\n\u001b[0m    ^\u001b[0m\n\u001b[0;31mIndentationError\u001b[0m\u001b[0;31m:\u001b[0m expected an indented block\n"
     ]
    }
   ],
   "source": [
    "import os\n",
    "\n",
    "with open('test_katalog.txt','w') as ss:\n",
    "    for file in os.listdir('/Users/mila1/Desktop/в мусор'):\n",
    "    ss.write(file+'\\n')\n",
    "    \n",
    "    ss.close()"
   ]
  },
  {
   "cell_type": "code",
   "execution_count": 9,
   "metadata": {},
   "outputs": [],
   "source": [
    "\"\"\"Есть в базе но нет картинок\"\"\"\n",
    "\n",
    "import os\n",
    "\n",
    "f = open('test_111.txt','w')\n",
    "p = open('список из информации об артикулах.txt','r')\n",
    "\n",
    "with open('список из информации об артикулах.txt','r') as p:\n",
    "    for line in p:\n",
    "        a = False;\n",
    "        for file in os.listdir('/Users/mila1/Desktop/в мусор'):\n",
    "            if (line.rstrip('\\n')+'.jpeg' == file) or (line.rstrip('\\n')+'.jpg' == file):\n",
    "                a = True\n",
    "        if a == False:\n",
    "            f.write(line+'\\n')\n",
    "    \n",
    "f.close()"
   ]
  },
  {
   "cell_type": "code",
   "execution_count": null,
   "metadata": {},
   "outputs": [],
   "source": []
  }
 ],
 "metadata": {
  "kernelspec": {
   "display_name": "Python 3",
   "language": "python",
   "name": "python3"
  },
  "language_info": {
   "codemirror_mode": {
    "name": "ipython",
    "version": 3
   },
   "file_extension": ".py",
   "mimetype": "text/x-python",
   "name": "python",
   "nbconvert_exporter": "python",
   "pygments_lexer": "ipython3",
   "version": "3.8.3"
  }
 },
 "nbformat": 4,
 "nbformat_minor": 4
}
