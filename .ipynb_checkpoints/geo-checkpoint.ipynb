{
 "cells": [
  {
   "cell_type": "code",
   "execution_count": 1,
   "metadata": {},
   "outputs": [],
   "source": [
    "import geocoder\n",
    "g = geocoder.google('Mountain View, CA')\n",
    "g.latlng"
   ]
  },
  {
   "cell_type": "code",
   "execution_count": null,
   "metadata": {},
   "outputs": [],
   "source": [
    "from geopy.geocoders import Nominatim\n",
    "geolocator = Nominatim(user_agent=\"1\")\n",
    "with open('города.csv', 'r',encoding='utf-8') as g:\n",
    "    with open('results_region.csv', 'w') as f:\n",
    "        f.write('Бизнес Регион;Region;location.latitude;location.longitude\\n')\n",
    "        for line in g:\n",
    "            try:\n",
    "                location = geolocator.geocode(line.strip('\\n').split(';')[1])\n",
    "                f.write(line.split(';')[0]+';'+line.strip('\\n').split(';')[1]+';'+str(location.latitude)+';'+str(location.longitude)+'\\n')\n",
    "            except:\n",
    "                f.write('')\n",
    "g.close()\n",
    "f.close()\n",
    "#a = (location.address)\n",
    "#print((location.latitude, location.longitude))"
   ]
  },
  {
   "cell_type": "code",
   "execution_count": null,
   "metadata": {},
   "outputs": [],
   "source": []
  }
 ],
 "metadata": {
  "kernelspec": {
   "display_name": "Python 3",
   "language": "python",
   "name": "python3"
  },
  "language_info": {
   "codemirror_mode": {
    "name": "ipython",
    "version": 3
   },
   "file_extension": ".py",
   "mimetype": "text/x-python",
   "name": "python",
   "nbconvert_exporter": "python",
   "pygments_lexer": "ipython3",
   "version": "3.8.3"
  }
 },
 "nbformat": 4,
 "nbformat_minor": 4
}
