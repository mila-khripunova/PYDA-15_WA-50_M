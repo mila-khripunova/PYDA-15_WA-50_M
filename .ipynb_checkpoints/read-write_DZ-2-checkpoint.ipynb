{
 "cells": [
  {
   "cell_type": "markdown",
   "metadata": {},
   "source": [
    "## Задание 1"
   ]
  },
  {
   "cell_type": "code",
   "execution_count": 77,
   "metadata": {},
   "outputs": [],
   "source": [
    "import json\n",
    "purchase = {}\n",
    "\n",
    "with open('purchase_log.txt') as f:\n",
    "    for line in f:\n",
    "        line = line.strip()\n",
    "        dict_ = json.loads(line)\n",
    "        purchase[dict_['user_id']] = dict_['category'] \n",
    "    f.close()"
   ]
  },
  {
   "cell_type": "markdown",
   "metadata": {},
   "source": [
    "## Задание 2"
   ]
  },
  {
   "cell_type": "code",
   "execution_count": 1,
   "metadata": {},
   "outputs": [],
   "source": [
    "import json\n",
    "\n",
    "i =0\n",
    "purchase = {}\n",
    "\n",
    "with open('purchase_log.txt') as f:\n",
    "    for line in f:\n",
    "        line = line.strip()\n",
    "        dict_ = json.loads(line)\n",
    "        purchase[dict_['user_id']] = dict_['category'] \n",
    "\n",
    "with open('visit_log.csv','r') as m, open('funnel.csv','w') as l:  \n",
    "    for line_m in m:\n",
    "        if line_m.strip().split(',')[0] in purchase.keys():\n",
    "            l.write(line_m)\n",
    "f.close() \n",
    "m.close() \n",
    "l.close() \n",
    "\n",
    "\n",
    "\n"
   ]
  },
  {
   "cell_type": "code",
   "execution_count": 2,
   "metadata": {},
   "outputs": [
    {
     "name": "stdout",
     "output_type": "stream",
     "text": [
      "user_id,source\n",
      "\n",
      "1840e0b9d4,other\n",
      "\n",
      "4e4f90fcfb,context\n",
      "\n",
      "afea8d72fc,other\n",
      "\n",
      "2824221f38,email\n",
      "\n",
      "373a6055fe,other\n",
      "\n",
      "9b2ab046f3,other\n",
      "\n"
     ]
    }
   ],
   "source": [
    "with open('funnel.csv') as l:\n",
    "    for line_l in l:\n",
    "        print(line_l)\n",
    "        i = i+1\n",
    "        if i>6:\n",
    "            break\n",
    "    \n",
    "l.close() "
   ]
  },
  {
   "cell_type": "code",
   "execution_count": null,
   "metadata": {},
   "outputs": [],
   "source": []
  }
 ],
 "metadata": {
  "kernelspec": {
   "display_name": "Python 3",
   "language": "python",
   "name": "python3"
  },
  "language_info": {
   "codemirror_mode": {
    "name": "ipython",
    "version": 3
   },
   "file_extension": ".py",
   "mimetype": "text/x-python",
   "name": "python",
   "nbconvert_exporter": "python",
   "pygments_lexer": "ipython3",
   "version": "3.8.3"
  }
 },
 "nbformat": 4,
 "nbformat_minor": 4
}
