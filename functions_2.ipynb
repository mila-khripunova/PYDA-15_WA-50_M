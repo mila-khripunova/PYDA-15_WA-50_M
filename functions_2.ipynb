{
 "cells": [
  {
   "cell_type": "markdown",
   "metadata": {},
   "source": [
    "## Задание 1"
   ]
  },
  {
   "cell_type": "code",
   "execution_count": null,
   "metadata": {},
   "outputs": [
    {
     "name": "stdout",
     "output_type": "stream",
     "text": [
      "Введите команду p,s,l,ads,ds либо q для выхода: l\n",
      "1 2207 876234 тип:  passport владелец:  Василий Гупкин   документ хранится на полке: 1\n",
      "2 11-2 тип:  invoice владелец:  Геннадий Покемонов   документ хранится на полке: 1\n",
      "3 10006 тип:  insurance владелец:  Аристарх Павлов   документ хранится на полке: 2\n",
      "Результат \n",
      "\n",
      "Введите команду p,s,l,ads,ds либо q для выхода: ads\n",
      "Введите номер полки 8\n",
      "Результат \n",
      "Полка добавлена. Текущий перечень полок: 1, 2, 3, 8\n",
      "Введите команду p,s,l,ads,ds либо q для выхода: 8\n",
      "Введите команду p,s,l,ads,ds либо q для выхода: ds\n",
      "Введите номер полки 8\n",
      "Результат \n",
      "Полка удалена. Текущий перечень полок: 1, 2, 3\n"
     ]
    }
   ],
   "source": [
    "documents = [\n",
    " {'type': 'passport', 'number': '2207 876234', 'name': 'Василий Гупкин'},\n",
    " {'type': 'invoice', 'number': '11-2', 'name': 'Геннадий Покемонов'},\n",
    " {'type': 'insurance', 'number': '10006', 'name': 'Аристарх Павлов'}\n",
    "]\n",
    "\n",
    "directories = {\n",
    " '1': ['2207 876234', '11-2'],\n",
    " '2': ['10006'],\n",
    " '3': []\n",
    "}\n",
    "\n",
    "\n",
    "def p(documents_,directories_,psl_):  \n",
    "    \"\"\"Пользователь по команде \"p\" может узнать владельца документа по его номеру\"\"\"\n",
    "    a = 'Документ не найден в базе'\n",
    "    for n,doc in enumerate(documents_):\n",
    "        if doc['number'] == psl_:\n",
    "            a = 'Владелец документа: %s ' %doc['name'] \n",
    "    return a\n",
    "\n",
    "def s(documents_,directories_,psl_):\n",
    "    \"\"\"Пользователь по команде \"s\" может по номеру документа узнать на какой полке он хранится\"\"\"\n",
    "    \n",
    "    a = 'Документ не найден в базе'\n",
    "    for key,val in directories_.items():\n",
    "        if psl_ in val:\n",
    "            a = 'документ хранится на полке: %s' %key\n",
    "    return a \n",
    "\n",
    "\n",
    "def l(documents_,directories_,psl_):\n",
    "    \"\"\"Пользователь по команде \"l\" может увидеть полную информацию по всем документам\"\"\"\n",
    "    \n",
    "    for n,doc in enumerate(documents_,1):\n",
    "        print(n,doc['number'],'тип: ',doc['type'],'владелец: ',doc['name'],' ',s(documents,directories,doc['number']))\n",
    "    return '' \n",
    "            \n",
    "def ads(documents_,directories_,psl_):\n",
    "    \"\"\"Пользователь по команде \"ads\" может добавить новую полку\"\"\"\n",
    "    \n",
    "    if psl_ in directories_:\n",
    "        a ='Такая полка уже существует. Текущий перечень полок: %s'%','.join(map(str, list(directories_.keys())))\n",
    "    else:\n",
    "        directories_.setdefault(psl_),\n",
    "        a ='Полка добавлена. Текущий перечень полок: %s'%', '.join(map(str, list(directories_.keys()))),\n",
    "    return a\n",
    "\n",
    "def ds(documents_,directories_,psl_):\n",
    "    \"\"\"Пользователь по команде \"ds\" может удалить существующую полку из данных (только если она пустая)\"\"\"\n",
    "\n",
    "    if psl_ not in directories_:\n",
    "        a = 'Такой полки не существует. Текущий перечень полок: %s'%', '.join(map(str, list(directories_.keys())))\n",
    "    elif directories_[psl_]:\n",
    "        a = 'На полке есть документы, удалите их перед удалением полки. Текущий перечень полок: %s'%', '.join(map(str, list(directories_.keys())))\n",
    "    else:\n",
    "        directories_.pop(psl_),\n",
    "        a = 'Полка удалена. Текущий перечень полок: %s'%', '.join(map(str, list(directories_.keys())))\n",
    "    return a\n",
    "\n",
    "\n",
    "personal_functions = {'p': [p,'номер документа'],\n",
    "                      's': [s,'номер документа'],\n",
    "                      'l': [l],\n",
    "                      'ads':[ads,'номер полки'], \n",
    "                      'ds':[ds,'номер полки']\n",
    "                     } \n",
    "user_input = arg = '' \n",
    "while user_input !='q':  \n",
    "    user_input = str(input('Введите команду p,s,l,ads,ds либо q для выхода: '))\n",
    "    if user_input in personal_functions:\n",
    "        function = personal_functions[user_input][0]\n",
    "        if len(personal_functions[user_input])>1:\n",
    "            arg = str(input('Введите %s ' % personal_functions[user_input][1]))\n",
    "        print('Результат \\n%s' %function(documents,directories,arg)) \n"
   ]
  },
  {
   "cell_type": "code",
   "execution_count": null,
   "metadata": {},
   "outputs": [],
   "source": []
  },
  {
   "cell_type": "code",
   "execution_count": null,
   "metadata": {},
   "outputs": [],
   "source": []
  }
 ],
 "metadata": {
  "kernelspec": {
   "display_name": "Python 3",
   "language": "python",
   "name": "python3"
  },
  "language_info": {
   "codemirror_mode": {
    "name": "ipython",
    "version": 3
   },
   "file_extension": ".py",
   "mimetype": "text/x-python",
   "name": "python",
   "nbconvert_exporter": "python",
   "pygments_lexer": "ipython3",
   "version": "3.8.3"
  }
 },
 "nbformat": 4,
 "nbformat_minor": 4
}
