{
 "cells": [
  {
   "cell_type": "code",
   "execution_count": 25,
   "metadata": {},
   "outputs": [
    {
     "data": {
      "text/plain": [
       "'{\"data\":{\"id\":\"vkPvVN8\",\"title\":\"025104f62bec\",\"url_viewer\":\"https:\\\\/\\\\/ibb.co\\\\/vkPvVN8\",\"url\":\"https:\\\\/\\\\/i.ibb.co\\\\/XtskjnT\\\\/025104f62bec.jpg\",\"display_url\":\"https:\\\\/\\\\/i.ibb.co\\\\/XtskjnT\\\\/025104f62bec.jpg\",\"size\":2374,\"time\":\"1608130589\",\"expiration\":\"0\",\"image\":{\"filename\":\"025104f62bec.jpg\",\"name\":\"025104f62bec\",\"mime\":\"image\\\\/jpeg\",\"extension\":\"jpg\",\"url\":\"https:\\\\/\\\\/i.ibb.co\\\\/XtskjnT\\\\/025104f62bec.jpg\"},\"thumb\":{\"filename\":\"025104f62bec.jpg\",\"name\":\"025104f62bec\",\"mime\":\"image\\\\/jpeg\",\"extension\":\"jpg\",\"url\":\"https:\\\\/\\\\/i.ibb.co\\\\/vkPvVN8\\\\/025104f62bec.jpg\"},\"delete_url\":\"https:\\\\/\\\\/ibb.co\\\\/vkPvVN8\\\\/f0162bf893adb7f11503edb9b6a1c959\"},\"success\":true,\"status\":200}'"
      ]
     },
     "execution_count": 25,
     "metadata": {},
     "output_type": "execute_result"
    }
   ],
   "source": [
    "import base64\n",
    "import requests\n",
    "import os\n",
    "    \n",
    "for file in os.listdir('/Users/mila1/Desktop/в мусор/1'):\n",
    "    with open('/Users/mila1/Desktop/в мусор/1/'+file, \"rb\") as file_:\n",
    "        url = 'https://api.imgbb.com/1/upload'\n",
    "        payload = {\n",
    "            \"key\": \"0101e01b7c16caf1b2fe15ff1b52adbc\",\n",
    "            \"image\": base64.b64encode(file_.read()),\n",
    "            \"name\":file\n",
    "        }\n",
    "        res = requests.post(url, payload)\n",
    "res.text"
   ]
  },
  {
   "cell_type": "code",
   "execution_count": null,
   "metadata": {},
   "outputs": [],
   "source": []
  }
 ],
 "metadata": {
  "kernelspec": {
   "display_name": "Python 3",
   "language": "python",
   "name": "python3"
  },
  "language_info": {
   "codemirror_mode": {
    "name": "ipython",
    "version": 3
   },
   "file_extension": ".py",
   "mimetype": "text/x-python",
   "name": "python",
   "nbconvert_exporter": "python",
   "pygments_lexer": "ipython3",
   "version": "3.8.3"
  }
 },
 "nbformat": 4,
 "nbformat_minor": 4
}
