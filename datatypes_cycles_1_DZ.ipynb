{
 "cells": [
  {
   "cell_type": "markdown",
   "metadata": {},
   "source": [
    "## Задание 1"
   ]
  },
  {
   "cell_type": "code",
   "execution_count": 136,
   "metadata": {
    "scrolled": true
   },
   "outputs": [
    {
     "name": "stdout",
     "output_type": "stream",
     "text": [
      "Результат:\n",
      "t\n"
     ]
    }
   ],
   "source": [
    "word = \"testing\"\n",
    "print('Результат:')\n",
    "if len(word) % 2 == 0:\n",
    "  print(word[len(word//2)-1:len(word)//2+1])\n",
    "else: print(word[len(word)//2:len(word)//2+1])\n"
   ]
  },
  {
   "cell_type": "markdown",
   "metadata": {},
   "source": [
    "## Задание 2"
   ]
  },
  {
   "cell_type": "code",
   "execution_count": 137,
   "metadata": {},
   "outputs": [
    {
     "name": "stdout",
     "output_type": "stream",
     "text": [
      "Введите число:7\n",
      "Введите число:5\n",
      "Введите число:0\n",
      "Результат: 12\n"
     ]
    }
   ],
   "source": [
    "numer = 0\n",
    "n = int(input('Введите число:'))\n",
    "\n",
    "while n != 0:\n",
    " numer += n\n",
    " n = int(input('Введите число:'))\n",
    "print('Результат:', numer)"
   ]
  },
  {
   "cell_type": "markdown",
   "metadata": {},
   "source": [
    "## Задание 3"
   ]
  },
  {
   "cell_type": "code",
   "execution_count": 210,
   "metadata": {},
   "outputs": [
    {
     "name": "stdout",
     "output_type": "stream",
     "text": [
      "Результат:\n",
      "Alex  и  Emma\n",
      "Arthur  и  Kate\n",
      "John  и  Kira\n",
      "Peter  и  Liza\n",
      "Richard  и  Trisha\n"
     ]
    }
   ],
   "source": [
    "boys = ['Peter', 'Alex', 'John','Arthur', 'Richard']\n",
    "girls = ['Kate', 'Liza', 'Kira', 'Emma', 'Trisha']\n",
    "print('Результат:')\n",
    "if len(boys) != len(girls):\n",
    "  print ('Внимание, кто-то может остаться без пары!')\n",
    "else:  \n",
    " i = 0\n",
    " while i < len(boys):\n",
    "    print (sorted(boys)[i],' и ',sorted(girls)[i])\n",
    "    i = i + 1 \n",
    "\n",
    "    "
   ]
  },
  {
   "cell_type": "markdown",
   "metadata": {},
   "source": [
    "## Задание 4"
   ]
  },
  {
   "cell_type": "code",
   "execution_count": 76,
   "metadata": {},
   "outputs": [
    {
     "name": "stdout",
     "output_type": "stream",
     "text": [
      "Результат:\n",
      "Средняя температура в странах:\n",
      "Thailand  -  23.9 C\n",
      "Germany  -  13.8 C\n",
      "Russia  -  3.7 C\n",
      "Poland  -  12.0 C\n"
     ]
    }
   ],
   "source": [
    "countries_temperature = [\n",
    "    ['Thailand', [75.2, 77, 78.8, 73.4, 68, 75.2, 77]],\n",
    "    ['Germany', [57.2, 55.4, 59, 59, 53.6]],\n",
    "    ['Russia', [35.6, 37.4, 39.2, 41, 42.8, 39.2, 35.6]],\n",
    "    ['Poland', [50, 50, 53.6, 57.2, 55.4, 55.4]]\n",
    "    ]\n",
    "print('Результат:')\n",
    "print('Средняя температура в странах:')\n",
    "i = 0\n",
    "while i < len(countries_temperature):\n",
    "    print(countries_temperature[i][0],' - ',round((mean(countries_temperature[i][1]) - 32) / 1.8, 1),'C')\n",
    "    i = i + 1\n",
    "\n",
    "\n"
   ]
  },
  {
   "cell_type": "markdown",
   "metadata": {},
   "source": [
    "## Задание 5"
   ]
  },
  {
   "cell_type": "code",
   "execution_count": 134,
   "metadata": {},
   "outputs": [
    {
     "name": "stdout",
     "output_type": "stream",
     "text": [
      "Результат: \n",
      "Среднее количество просмотров на уникального пользователя:  23.25\n"
     ]
    }
   ],
   "source": [
    "stream = [\n",
    "    '2018-01-01,user1,3',\n",
    "    '2018-01-07,user1,4',\n",
    "    '2018-03-29,user1,1',\n",
    "    '2018-04-04,user1,13',\n",
    "    '2018-01-05,user2,7',\n",
    "    '2018-06-14,user3,4',\n",
    "    '2018-07-02,user3,10',\n",
    "    '2018-03-21,user4,19',\n",
    "    '2018-03-22,user4,4',\n",
    "    '2018-04-22,user4,8',\n",
    "    '2018-05-03,user4,9',\n",
    "    '2018-05-11,user4,11',\n",
    "    ]\n",
    "\n",
    "i = 0\n",
    "time = 0\n",
    "user = []\n",
    "while i < len(stream):\n",
    "    split_stream = stream[i].split(',')\n",
    "    time = time + int (split_stream[2])\n",
    "    user.append(split_stream[1])\n",
    "    i = i + 1;\n",
    "    \n",
    "print('Результат: \\nСреднее количество просмотров на уникального пользователя: ', round(time / len(set(user)),2))\n"
   ]
  },
  {
   "cell_type": "markdown",
   "metadata": {},
   "source": [
    "## Задание 6"
   ]
  },
  {
   "cell_type": "code",
   "execution_count": 209,
   "metadata": {},
   "outputs": [
    {
     "name": "stdout",
     "output_type": "stream",
     "text": [
      "Введите числа, разделенные пробелом:7 8 6 7 7\n",
      "Результат:\n",
      "8 7 6 "
     ]
    }
   ],
   "source": [
    "n = list(input('Введите числа, разделенные пробелом:'))\n",
    "i = 0\n",
    "itog = list(set([n[i] for n[i] in n if n.count(n[i]) >= 2 and n[i] != ' ']))\n",
    "print('Результат:')\n",
    "for i in range(len(itog)):\n",
    "    print(itog[i],end=' ')\n"
   ]
  },
  {
   "cell_type": "code",
   "execution_count": null,
   "metadata": {},
   "outputs": [],
   "source": []
  }
 ],
 "metadata": {
  "kernelspec": {
   "display_name": "Python 3",
   "language": "python",
   "name": "python3"
  },
  "language_info": {
   "codemirror_mode": {
    "name": "ipython",
    "version": 3
   },
   "file_extension": ".py",
   "mimetype": "text/x-python",
   "name": "python",
   "nbconvert_exporter": "python",
   "pygments_lexer": "ipython3",
   "version": "3.8.3"
  }
 },
 "nbformat": 4,
 "nbformat_minor": 4
}
